{
 "cells": [
  {
   "cell_type": "code",
   "execution_count": null,
   "metadata": {},
   "outputs": [],
   "source": [
    "You need to construct a binary tree from a string consisting of parenthesis and integers.\n",
    "\n",
    "The whole input represents a binary tree. It contains an integer followed by zero, one or two pairs of parenthesis. The integer represents the root's value and a pair of parenthesis contains a child binary tree with the same structure.\n",
    "You always start to construct the **left** child node of the parent first if it exists.\n",
    "\n",
    "**Input:** s = \"4(2(3)(1))(6(5))\"\n",
    "\n",
    "**Output:** [4,2,6,3,1,5]"
   ]
  },
  {
   "cell_type": "code",
   "execution_count": null,
   "metadata": {},
   "outputs": [],
   "source": [
    "class TreeNode:\n",
    "    def __init__(self, val=0, left=None, right=None):\n",
    "        self.val = val\n",
    "        self.left = left\n",
    "        self.right = right\n",
    "\n",
    "\n",
    "def constructTree(s):\n",
    "    if not s:\n",
    "        return None\n",
    "\n",
    "    # Find the index of the opening parenthesis after the root\n",
    "    opening_parenthesis = s.find(\"(\")\n",
    "\n",
    "    # Create the root node with the value\n",
    "    root_val = int(s[:opening_parenthesis])\n",
    "    root = TreeNode(root_val)\n",
    "\n",
    "    # Find the substring for the left subtree\n",
    "    left_start = opening_parenthesis + 1\n",
    "    left_end = findClosingParenthesis(s, left_start)\n",
    "    root.left = constructTree(s[left_start:left_end])\n",
    "\n",
    "    # Find the substring for the right subtree\n",
    "    right_start = left_end + 2\n",
    "    right_end = len(s) - 1\n",
    "    root.right = constructTree(s[right_start:right_end])\n",
    "\n",
    "    return root\n",
    "\n",
    "\n",
    "def findClosingParenthesis(s, start):\n",
    "    count = 0\n",
    "    for i in range(start, len(s)):\n",
    "        if s[i] == \"(\":\n",
    "            count += 1\n",
    "        elif s[i] == \")\":\n",
    "            count -= 1\n",
    "            if count == 0:\n",
    "                return i\n",
    "    return -1\n",
    "\n",
    "\n",
    "def inorderTraversal(root):\n",
    "    if root is None:\n",
    "        return []\n",
    "    return inorderTraversal(root.left) + [root.val] + inorderTraversal(root.right)\n",
    "\n",
    "\n",
    "# Test the example\n",
    "s = \"4(2(3)(1))(6(5))\"\n",
    "tree = constructTree(s)\n",
    "result = inorderTraversal(tree)\n",
    "print(result)  # Output: [4, 2, 3, 1, 6, 5]\n"
   ]
  }
 ],
 "metadata": {
  "kernelspec": {
   "display_name": "Python 3",
   "language": "python",
   "name": "python3"
  },
  "language_info": {
   "codemirror_mode": {
    "name": "ipython",
    "version": 3
   },
   "file_extension": ".py",
   "mimetype": "text/x-python",
   "name": "python",
   "nbconvert_exporter": "python",
   "pygments_lexer": "ipython3",
   "version": "3.8.0"
  },
  "orig_nbformat": 4
 },
 "nbformat": 4,
 "nbformat_minor": 2
}
